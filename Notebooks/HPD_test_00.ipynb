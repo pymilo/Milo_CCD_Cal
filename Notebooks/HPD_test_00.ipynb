{
 "cells": [
  {
   "cell_type": "markdown",
   "metadata": {},
   "source": [
    "# FOXSI Optics Analysis CCD \n",
    "## December 2017 - Berkeley\n",
    "## @Milo"
   ]
  },
  {
   "cell_type": "markdown",
   "metadata": {},
   "source": [
    "### Packages"
   ]
  },
  {
   "cell_type": "code",
   "execution_count": 16,
   "metadata": {},
   "outputs": [],
   "source": [
    "%matplotlib inline\n",
    "from foxsi_optics_calib.ccd.ccd import AndorCCDImage, AndorCCDPsfImage, AndorCCDPsfFitImage\n",
    "import astropy.units as u\n",
    "import matplotlib.pyplot as plt"
   ]
  },
  {
   "cell_type": "markdown",
   "metadata": {},
   "source": [
    "### Files:"
   ]
  },
  {
   "cell_type": "code",
   "execution_count": 5,
   "metadata": {
    "collapsed": true
   },
   "outputs": [],
   "source": [
    "psf_file = '../data_example/FOXSI3_X2_25mmz_CCD_10kV_0p02mA_0arcminX_0arcminY_run1.fits'\n",
    "dark_file = '../data_example/FOXSI3_X2_10kV_0p02mA_darkframe2.fits'\n",
    "focal_length = 2 * u.m"
   ]
  },
  {
   "cell_type": "code",
   "execution_count": 17,
   "metadata": {},
   "outputs": [
    {
     "name": "stdout",
     "output_type": "stream",
     "text": [
      "Found 10 exposures. Averaging...\n",
      "Found 10 exposures. Averaging...\n"
     ]
    },
    {
     "data": {
      "text/plain": [
       "(<matplotlib.axes._subplots.WCSAxesSubplot at 0x10ac72710>,\n",
       " <matplotlib.image.AxesImage at 0x10ac97860>,\n",
       " <matplotlib.contour.QuadContourSet at 0x182ae02be0>)"
      ]
     },
     "execution_count": 17,
     "metadata": {},
     "output_type": "execute_result"
    },
    {
     "data": {
      "image/png": "[encoded data removed]",
      "text/plain": [
       "<matplotlib.figure.Figure at 0x10ac83128>"
      ]
     },
     "metadata": {},
     "output_type": "display_data"
    }
   ],
   "source": [
    "psf = AndorCCDImage(psf_file,focal_length)\n",
    "dark = AndorCCDImage(dark_file,focal_length)\n",
    "data = (psf.data - dark.data)/dark.data\n",
    "psf.plot_image(vmin=1e-2,colorbar=True)"
   ]
  },
  {
   "cell_type": "code",
   "execution_count": 10,
   "metadata": {},
   "outputs": [
    {
     "data": {
      "text/plain": [
       "array([[ 1322.19995117,  1322.90002441,  1325.09997559, ...,\n",
       "         1322.90002441,  1328.        ,  1325.40002441],\n",
       "       [ 1323.40002441,  1319.5       ,  1322.        , ...,\n",
       "         1321.90002441,  1323.90002441,  1328.09997559],\n",
       "       [ 1324.09997559,  1317.90002441,  1327.30004883, ...,\n",
       "         1323.90002441,  1325.        ,  1322.        ],\n",
       "       ..., \n",
       "       [ 1333.59997559,  1332.19995117,  1331.90002441, ...,\n",
       "         1329.90002441,  1327.90002441,  1329.80004883],\n",
       "       [ 1333.40002441,  1331.90002441,  1334.69995117, ...,\n",
       "         1329.5       ,  1331.09997559,  1328.30004883],\n",
       "       [ 1335.        ,  1336.40002441,  1336.30004883, ...,\n",
       "         1330.30004883,  1332.59997559,  1332.5       ]], dtype=float32)"
      ]
     },
     "execution_count": 10,
     "metadata": {},
     "output_type": "execute_result"
    }
   ],
   "source": [
    "psf.data"
   ]
  },
  {
   "cell_type": "code",
   "execution_count": null,
   "metadata": {
    "collapsed": true
   },
   "outputs": [],
   "source": []
  },
  {
   "cell_type": "code",
   "execution_count": null,
   "metadata": {
    "collapsed": true
   },
   "outputs": [],
   "source": []
  },
  {
   "cell_type": "markdown",
   "metadata": {},
   "source": [
    "Calling the **AndorCCDImage** Class:"
   ]
  },
  {
   "cell_type": "code",
   "execution_count": 3,
   "metadata": {
    "scrolled": false
   },
   "outputs": [
    {
     "name": "stdout",
     "output_type": "stream",
     "text": [
      "Found 10 exposures. Averaging...\n",
      "Found 10 exposures. Averaging...\n",
      "Found 10 exposures. Averaging...\n",
      "{'amplitude1': 6800.5243629724418, 'amplitude2': 2490.0720387785591, 'amplitude3': 970.49253803084628, 'x_stddev1': 1.3239919894745515, 'y_stddev1': 1.4488202880882064, 'x_stddev2': 4.2170559522149125, 'y_stddev2': 4.125216553833738, 'x_stddev3': 9.2014587145146169, 'y_stddev3': 9.4812661651152972, 'theta': 90.0}\n"
     ]
    },
    {
     "name": "stderr",
     "output_type": "stream",
     "text": [
      "/Users/Kamilobu/anaconda3/lib/python3.6/site-packages/astropy/modeling/functional_models.py:456: RuntimeWarning: divide by zero encountered in true_divide\n",
      "  a = 0.5 * ((cost2 / xstd2) + (sint2 / ystd2))\n",
      "/Users/Kamilobu/anaconda3/lib/python3.6/site-packages/astropy/modeling/functional_models.py:457: RuntimeWarning: divide by zero encountered in true_divide\n",
      "  b = 0.5 * ((sin2t / xstd2) - (sin2t / ystd2))\n",
      "/Users/Kamilobu/anaconda3/lib/python3.6/site-packages/astropy/modeling/functional_models.py:458: RuntimeWarning: divide by zero encountered in true_divide\n",
      "  c = 0.5 * ((sint2 / xstd2) + (cost2 / ystd2))\n",
      "/Users/Kamilobu/anaconda3/lib/python3.6/site-packages/astropy/modeling/functional_models.py:459: RuntimeWarning: invalid value encountered in add\n",
      "  return amplitude * np.exp(-((a * xdiff ** 2) + (b * xdiff * ydiff) +\n",
      "/Users/Kamilobu/anaconda3/lib/python3.6/site-packages/astropy/modeling/functional_models.py:457: RuntimeWarning: invalid value encountered in subtract\n",
      "  b = 0.5 * ((sin2t / xstd2) - (sin2t / ystd2))\n"
     ]
    },
    {
     "name": "stdout",
     "output_type": "stream",
     "text": [
      "Number of calls to function has reached maxfev = 200.\n",
      "amplitude: 47901.857376978645 3614.800484742164 2234.439633738776\n",
      "center: -355.01669752231476, -121.04790741526149\n"
     ]
    },
    {
     "name": "stderr",
     "output_type": "stream",
     "text": [
      "WARNING: The fit may be unsuccessful; check fit_info['message'] for more information. [astropy.modeling.fitting]\n"
     ]
    }
   ],
   "source": [
    "img = AndorCCDImage(psf_file, focal_length)\n",
    "psf_img = AndorCCDPsfImage(psf_file, focal_length)\n",
    "psffit_img = AndorCCDPsfFitImage(psf_file, focal_length)"
   ]
  },
  {
   "cell_type": "markdown",
   "metadata": {},
   "source": [
    "The problem with this is that the functions are reading the data directly with substracting the dark frames. I need to substract the darks before processing the PSF."
   ]
  },
  {
   "cell_type": "code",
   "execution_count": 6,
   "metadata": {},
   "outputs": [
    {
     "ename": "NameError",
     "evalue": "name 'PsfImage' is not defined",
     "output_type": "error",
     "traceback": [
      "\u001b[0;31m---------------------------------------------------------------------------\u001b[0m",
      "\u001b[0;31mNameError\u001b[0m                                 Traceback (most recent call last)",
      "\u001b[0;32m<ipython-input-6-a3f5395593f9>\u001b[0m in \u001b[0;36m<module>\u001b[0;34m()\u001b[0m\n\u001b[0;32m----> 1\u001b[0;31m \u001b[0mpsf\u001b[0m \u001b[0;34m=\u001b[0m \u001b[0mPsfImage\u001b[0m\u001b[0;34m(\u001b[0m\u001b[0mpsf_file\u001b[0m\u001b[0;34m)\u001b[0m\u001b[0;34m\u001b[0m\u001b[0m\n\u001b[0m\u001b[1;32m      2\u001b[0m \u001b[0mdark\u001b[0m \u001b[0;34m=\u001b[0m \u001b[0mPsfImage\u001b[0m\u001b[0;34m(\u001b[0m\u001b[0mdark_file\u001b[0m\u001b[0;34m)\u001b[0m\u001b[0;34m\u001b[0m\u001b[0m\n\u001b[1;32m      3\u001b[0m \u001b[0mdata\u001b[0m \u001b[0;34m=\u001b[0m \u001b[0;34m(\u001b[0m\u001b[0mpsf\u001b[0m\u001b[0;34m.\u001b[0m\u001b[0mdata\u001b[0m \u001b[0;34m-\u001b[0m \u001b[0mdark\u001b[0m\u001b[0;34m.\u001b[0m\u001b[0mdata\u001b[0m\u001b[0;34m)\u001b[0m\u001b[0;34m/\u001b[0m\u001b[0mdark\u001b[0m\u001b[0;34m.\u001b[0m\u001b[0mdata\u001b[0m\u001b[0;34m\u001b[0m\u001b[0m\n\u001b[1;32m      4\u001b[0m \u001b[0mpsf\u001b[0m\u001b[0;34m.\u001b[0m\u001b[0mplot_image\u001b[0m\u001b[0;34m(\u001b[0m\u001b[0mvmin\u001b[0m\u001b[0;34m=\u001b[0m\u001b[0;36m1e-2\u001b[0m\u001b[0;34m,\u001b[0m\u001b[0mcolorbar\u001b[0m\u001b[0;34m=\u001b[0m\u001b[0;32mTrue\u001b[0m\u001b[0;34m)\u001b[0m\u001b[0;34m\u001b[0m\u001b[0m\n",
      "\u001b[0;31mNameError\u001b[0m: name 'PsfImage' is not defined"
     ]
    }
   ],
   "source": [
    "psf = PsfImage(psf_file)\n",
    "dark = PsfImage(dark_file)\n",
    "data = (psf.data - dark.data)/dark.data\n",
    "psf.plot_image(vmin=1e-2,colorbar=True)"
   ]
  },
  {
   "cell_type": "code",
   "execution_count": null,
   "metadata": {
    "collapsed": true
   },
   "outputs": [],
   "source": []
  },
  {
   "cell_type": "code",
   "execution_count": null,
   "metadata": {
    "collapsed": true
   },
   "outputs": [],
   "source": []
  },
  {
   "cell_type": "code",
   "execution_count": null,
   "metadata": {
    "collapsed": true
   },
   "outputs": [],
   "source": []
  },
  {
   "cell_type": "code",
   "execution_count": null,
   "metadata": {
    "collapsed": true
   },
   "outputs": [],
   "source": []
  },
  {
   "cell_type": "code",
   "execution_count": null,
   "metadata": {
    "collapsed": true
   },
   "outputs": [],
   "source": []
  }
 ],
 "metadata": {
  "kernelspec": {
   "display_name": "Python 3",
   "language": "python",
   "name": "python3"
  },
  "language_info": {
   "codemirror_mode": {
    "name": "ipython",
    "version": 3
   },
   "file_extension": ".py",
   "mimetype": "text/x-python",
   "name": "python",
   "nbconvert_exporter": "python",
   "pygments_lexer": "ipython3",
   "version": "3.6.3"
  }
 },
 "nbformat": 4,
 "nbformat_minor": 2
}
